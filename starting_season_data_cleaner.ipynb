{
 "cells": [
  {
   "cell_type": "markdown",
   "metadata": {},
   "source": [
    "**Link for the data:** https://github.com/vaastav/Fantasy-Premier-League/tree/master/data/2022-23"
   ]
  },
  {
   "cell_type": "code",
   "execution_count": 1,
   "metadata": {},
   "outputs": [
    {
     "name": "stderr",
     "output_type": "stream",
     "text": [
      "C:\\ProgramData\\Anaconda3\\lib\\site-packages\\pandas\\core\\computation\\expressions.py:20: UserWarning: Pandas requires version '2.7.3' or newer of 'numexpr' (version '2.7.1' currently installed).\n",
      "  from pandas.core.computation.check import NUMEXPR_INSTALLED\n"
     ]
    }
   ],
   "source": [
    "import pandas as pd"
   ]
  },
  {
   "cell_type": "code",
   "execution_count": 2,
   "metadata": {},
   "outputs": [],
   "source": [
    "raw_data = pd.read_csv('static/Historic Data/players_raw.csv')\n",
    "teams = pd.read_csv('static/Historic Data/teams.csv')\n",
    "idlist = pd.read_csv('static/Historic Data/player_idlist.csv')\n",
    "id_dict = pd.read_csv('static/Historic Data/id_dict.csv')"
   ]
  },
  {
   "cell_type": "code",
   "execution_count": 3,
   "metadata": {},
   "outputs": [],
   "source": [
    "initial_data = pd.read_csv('static/player_stats_initial.csv')"
   ]
  },
  {
   "cell_type": "code",
   "execution_count": 4,
   "metadata": {},
   "outputs": [
    {
     "data": {
      "text/plain": [
       "Index(['assists', 'bonus', 'clean_sheets', 'code', 'first_name', 'form',\n",
       "       'goals_conceded', 'goals_scored', 'id', 'in_dreamteam', 'minutes',\n",
       "       'now_cost', 'own_goals', 'penalties_missed', 'penalties_saved',\n",
       "       'points_per_game', 'red_cards', 'saves', 'second_name', 'status',\n",
       "       'team', 'team_code', 'total_points', 'web_name', 'yellow_cards',\n",
       "       'player_type'],\n",
       "      dtype='object')"
      ]
     },
     "execution_count": 4,
     "metadata": {},
     "output_type": "execute_result"
    }
   ],
   "source": [
    "initial_data.columns"
   ]
  },
  {
   "cell_type": "code",
   "execution_count": 6,
   "metadata": {},
   "outputs": [],
   "source": [
    "new_df = raw_data[['assists', 'bonus', 'clean_sheets', \\\n",
    "       'code', 'first_name', 'form', 'goals_conceded', 'goals_scored', 'id', 'in_dreamteam', 'minutes', 'now_cost', \\\n",
    "       'own_goals', 'penalties_missed', 'penalties_saved', \\\n",
    "        'points_per_game', 'red_cards', 'saves', \\\n",
    "       'second_name', 'status', 'team', 'team_code', 'total_points', 'web_name', 'yellow_cards', 'element_type']]"
   ]
  },
  {
   "cell_type": "code",
   "execution_count": 7,
   "metadata": {},
   "outputs": [
    {
     "name": "stderr",
     "output_type": "stream",
     "text": [
      "<ipython-input-7-f6b4737ffd07>:1: SettingWithCopyWarning: \n",
      "A value is trying to be set on a copy of a slice from a DataFrame\n",
      "\n",
      "See the caveats in the documentation: https://pandas.pydata.org/pandas-docs/stable/user_guide/indexing.html#returning-a-view-versus-a-copy\n",
      "  new_df['element_type'].replace([1, 2, 3, 4], ['GKP', 'DEF', 'MID', 'FWD'], inplace=True)\n"
     ]
    }
   ],
   "source": [
    "new_df['element_type'].replace([1, 2, 3, 4], ['GKP', 'DEF', 'MID', 'FWD'], inplace=True)\n",
    "new_df.rename(columns={'element_type': 'player_type'}, inplace=True)"
   ]
  },
  {
   "cell_type": "code",
   "execution_count": 42,
   "metadata": {},
   "outputs": [],
   "source": [
    "for idx in range(len(new_df)):\n",
    "    new_df.loc[idx, 'team_code'] = teams.loc[teams['code'] == new_df.iloc[idx]['team_code'], 'short_name'].values[0]"
   ]
  },
  {
   "cell_type": "code",
   "execution_count": 44,
   "metadata": {},
   "outputs": [
    {
     "data": {
      "text/plain": [
       "True"
      ]
     },
     "execution_count": 44,
     "metadata": {},
     "output_type": "execute_result"
    }
   ],
   "source": [
    "set(initial_data.columns) == set(new_df.columns)"
   ]
  },
  {
   "cell_type": "code",
   "execution_count": 45,
   "metadata": {},
   "outputs": [],
   "source": [
    "new_df.reindex(sorted(new_df.columns), axis=1)\n",
    "new_df.to_csv('static/player_stats_initial.csv', index=False)"
   ]
  }
 ],
 "metadata": {
  "kernelspec": {
   "display_name": "Python 3",
   "language": "python",
   "name": "python3"
  },
  "language_info": {
   "codemirror_mode": {
    "name": "ipython",
    "version": 3
   },
   "file_extension": ".py",
   "mimetype": "text/x-python",
   "name": "python",
   "nbconvert_exporter": "python",
   "pygments_lexer": "ipython3",
   "version": "3.8.5"
  }
 },
 "nbformat": 4,
 "nbformat_minor": 4
}
